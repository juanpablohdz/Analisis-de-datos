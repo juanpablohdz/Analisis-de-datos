{
 "cells": [
  {
   "cell_type": "code",
   "execution_count": 2,
   "id": "9acdca55",
   "metadata": {},
   "outputs": [
    {
     "name": "stdout",
     "output_type": "stream",
     "text": [
      "Requirement already satisfied: statsmodels in c:\\users\\polla\\anaconda3\\lib\\site-packages (0.12.2)\n",
      "Requirement already satisfied: numpy>=1.15 in c:\\users\\polla\\anaconda3\\lib\\site-packages (from statsmodels) (1.19.5)\n",
      "Requirement already satisfied: scipy>=1.1 in c:\\users\\polla\\anaconda3\\lib\\site-packages (from statsmodels) (1.6.2)\n",
      "Requirement already satisfied: pandas>=0.21 in c:\\users\\polla\\anaconda3\\lib\\site-packages (from statsmodels) (1.2.4)\n",
      "Requirement already satisfied: patsy>=0.5 in c:\\users\\polla\\anaconda3\\lib\\site-packages (from statsmodels) (0.5.1)\n",
      "Requirement already satisfied: pytz>=2017.3 in c:\\users\\polla\\anaconda3\\lib\\site-packages (from pandas>=0.21->statsmodels) (2021.1)\n",
      "Requirement already satisfied: python-dateutil>=2.7.3 in c:\\users\\polla\\anaconda3\\lib\\site-packages (from pandas>=0.21->statsmodels) (2.8.1)\n",
      "Requirement already satisfied: six in c:\\users\\polla\\anaconda3\\lib\\site-packages (from patsy>=0.5->statsmodels) (1.15.0)\n",
      "Collecting pyreadstat\n",
      "  Downloading pyreadstat-1.1.2-cp38-cp38-win_amd64.whl (1.3 MB)\n",
      "Requirement already satisfied: pandas>0.24.0 in c:\\users\\polla\\anaconda3\\lib\\site-packages (from pyreadstat) (1.2.4)\n",
      "Requirement already satisfied: numpy>=1.16.5 in c:\\users\\polla\\anaconda3\\lib\\site-packages (from pandas>0.24.0->pyreadstat) (1.19.5)\n",
      "Requirement already satisfied: pytz>=2017.3 in c:\\users\\polla\\anaconda3\\lib\\site-packages (from pandas>0.24.0->pyreadstat) (2021.1)\n",
      "Requirement already satisfied: python-dateutil>=2.7.3 in c:\\users\\polla\\anaconda3\\lib\\site-packages (from pandas>0.24.0->pyreadstat) (2.8.1)\n",
      "Requirement already satisfied: six>=1.5 in c:\\users\\polla\\anaconda3\\lib\\site-packages (from python-dateutil>=2.7.3->pandas>0.24.0->pyreadstat) (1.15.0)\n",
      "Installing collected packages: pyreadstat\n",
      "Successfully installed pyreadstat-1.1.2\n"
     ]
    }
   ],
   "source": [
    "#se instalan las librerias  \n",
    "#!pip install statsmodels\n",
    "#!pip install pyreadstat"
   ]
  },
  {
   "cell_type": "code",
   "execution_count": 26,
   "id": "cd23c703",
   "metadata": {},
   "outputs": [],
   "source": [
    "import pandas as pd\n",
    "import numpy as np\n",
    "\n",
    "\n",
    "import matplotlib.pyplot as plt\n",
    "\n",
    "import statsmodels.api as sm#estimación de muchos modelos estadísticos diferentes\n",
    "import pyreadstat as pr # trabajar con formatos diferentes  extenciones .sav,etc...\n",
    "\n",
    "from sklearn import  linear_model\n",
    "from sklearn.metrics import mean_squared_error,r2_score\n",
    "from sklearn.metrics import accuracy_score\n",
    "from sklearn import metrics\n",
    "\n",
    "%matplotlib inline"
   ]
  },
  {
   "cell_type": "code",
   "execution_count": 2,
   "id": "55e7d1d0",
   "metadata": {},
   "outputs": [
    {
     "data": {
      "text/plain": [
       "Index(['salario', 'noasiat', 'gpa', 'postgrad', 'experien'], dtype='object')"
      ]
     },
     "execution_count": 2,
     "metadata": {},
     "output_type": "execute_result"
    }
   ],
   "source": [
    "# para leer este archivo es con meta y df \n",
    "arc='compensacion-ejecutivos.sav'\n",
    "df,meta=pr.read_sav(arc)\n",
    "df.columns"
   ]
  },
  {
   "cell_type": "code",
   "execution_count": 3,
   "id": "0678f9ea",
   "metadata": {},
   "outputs": [
    {
     "data": {
      "text/html": [
       "<div>\n",
       "<style scoped>\n",
       "    .dataframe tbody tr th:only-of-type {\n",
       "        vertical-align: middle;\n",
       "    }\n",
       "\n",
       "    .dataframe tbody tr th {\n",
       "        vertical-align: top;\n",
       "    }\n",
       "\n",
       "    .dataframe thead th {\n",
       "        text-align: right;\n",
       "    }\n",
       "</style>\n",
       "<table border=\"1\" class=\"dataframe\">\n",
       "  <thead>\n",
       "    <tr style=\"text-align: right;\">\n",
       "      <th></th>\n",
       "      <th>gpa</th>\n",
       "      <th>experien</th>\n",
       "    </tr>\n",
       "  </thead>\n",
       "  <tbody>\n",
       "    <tr>\n",
       "      <th>0</th>\n",
       "      <td>3.36</td>\n",
       "      <td>15.0</td>\n",
       "    </tr>\n",
       "    <tr>\n",
       "      <th>1</th>\n",
       "      <td>2.35</td>\n",
       "      <td>9.0</td>\n",
       "    </tr>\n",
       "    <tr>\n",
       "      <th>2</th>\n",
       "      <td>3.33</td>\n",
       "      <td>10.0</td>\n",
       "    </tr>\n",
       "    <tr>\n",
       "      <th>3</th>\n",
       "      <td>3.37</td>\n",
       "      <td>2.0</td>\n",
       "    </tr>\n",
       "    <tr>\n",
       "      <th>4</th>\n",
       "      <td>3.87</td>\n",
       "      <td>4.0</td>\n",
       "    </tr>\n",
       "    <tr>\n",
       "      <th>...</th>\n",
       "      <td>...</td>\n",
       "      <td>...</td>\n",
       "    </tr>\n",
       "    <tr>\n",
       "      <th>105</th>\n",
       "      <td>3.12</td>\n",
       "      <td>2.0</td>\n",
       "    </tr>\n",
       "    <tr>\n",
       "      <th>106</th>\n",
       "      <td>3.36</td>\n",
       "      <td>5.0</td>\n",
       "    </tr>\n",
       "    <tr>\n",
       "      <th>107</th>\n",
       "      <td>2.51</td>\n",
       "      <td>3.0</td>\n",
       "    </tr>\n",
       "    <tr>\n",
       "      <th>108</th>\n",
       "      <td>2.89</td>\n",
       "      <td>8.0</td>\n",
       "    </tr>\n",
       "    <tr>\n",
       "      <th>109</th>\n",
       "      <td>3.85</td>\n",
       "      <td>7.0</td>\n",
       "    </tr>\n",
       "  </tbody>\n",
       "</table>\n",
       "<p>110 rows × 2 columns</p>\n",
       "</div>"
      ],
      "text/plain": [
       "      gpa  experien\n",
       "0    3.36      15.0\n",
       "1    2.35       9.0\n",
       "2    3.33      10.0\n",
       "3    3.37       2.0\n",
       "4    3.87       4.0\n",
       "..    ...       ...\n",
       "105  3.12       2.0\n",
       "106  3.36       5.0\n",
       "107  2.51       3.0\n",
       "108  2.89       8.0\n",
       "109  3.85       7.0\n",
       "\n",
       "[110 rows x 2 columns]"
      ]
     },
     "execution_count": 3,
     "metadata": {},
     "output_type": "execute_result"
    }
   ],
   "source": [
    "y=df['salario']\n",
    "X=df.drop(['salario', 'noasiat','postgrad'],axis=1)\n",
    "X"
   ]
  },
  {
   "cell_type": "code",
   "execution_count": 4,
   "id": "b9989f8f",
   "metadata": {},
   "outputs": [],
   "source": [
    "#OLS ordinari list sequel  \n",
    "#mejores valores para a y b\n",
    "reg_lin=sm.OLS(y,sm.add_constant(X)).fit()"
   ]
  },
  {
   "cell_type": "code",
   "execution_count": 5,
   "id": "43d814f6",
   "metadata": {},
   "outputs": [
    {
     "name": "stdout",
     "output_type": "stream",
     "text": [
      "                            OLS Regression Results                            \n",
      "==============================================================================\n",
      "Dep. Variable:                salario   R-squared:                       0.798\n",
      "Model:                            OLS   Adj. R-squared:                  0.794\n",
      "Method:                 Least Squares   F-statistic:                     211.0\n",
      "Date:                Thu, 08 Jul 2021   Prob (F-statistic):           7.37e-38\n",
      "Time:                        15:03:07   Log-Likelihood:                -1135.4\n",
      "No. Observations:                 110   AIC:                             2277.\n",
      "Df Residuals:                     107   BIC:                             2285.\n",
      "Df Model:                           2                                         \n",
      "Covariance Type:            nonrobust                                         \n",
      "==============================================================================\n",
      "                 coef    std err          t      P>|t|      [0.025      0.975]\n",
      "------------------------------------------------------------------------------\n",
      "const       4968.0099   4325.267      1.149      0.253   -3606.328    1.35e+04\n",
      "gpa         2.024e+04   1364.423     14.831      0.000    1.75e+04    2.29e+04\n",
      "experien    1973.1918    148.539     13.284      0.000    1678.730    2267.653\n",
      "==============================================================================\n",
      "Omnibus:                        0.779   Durbin-Watson:                   1.909\n",
      "Prob(Omnibus):                  0.678   Jarque-Bera (JB):                0.857\n",
      "Skew:                          -0.191   Prob(JB):                        0.651\n",
      "Kurtosis:                       2.795   Cond. No.                         72.2\n",
      "==============================================================================\n",
      "\n",
      "Notes:\n",
      "[1] Standard Errors assume that the covariance matrix of the errors is correctly specified.\n"
     ]
    }
   ],
   "source": [
    "print(reg_lin.summary())"
   ]
  },
  {
   "cell_type": "code",
   "execution_count": 6,
   "id": "4083895d",
   "metadata": {},
   "outputs": [
    {
     "data": {
      "text/plain": [
       "<matplotlib.lines.Line2D at 0x1f5ff7139a0>"
      ]
     },
     "execution_count": 6,
     "metadata": {},
     "output_type": "execute_result"
    },
    {
     "data": {
      "image/png": "[encoded data removed]",
      "text/plain": [
       "<Figure size 432x288 with 1 Axes>"
      ]
     },
     "metadata": {
      "needs_background": "light"
     },
     "output_type": "display_data"
    }
   ],
   "source": [
    "fig, ax=plt.subplots()\n",
    "\n",
    "y_pred =reg_lin.predict(sm.add_constant(X))\n",
    "\n",
    "\n",
    "ax.scatter(y, y - y_pred )\n",
    "\n",
    "plt.axhline(y=0 ,color='black',alpha=0.8,linestyle='--')#linea horizontal"
   ]
  },
  {
   "cell_type": "markdown",
   "id": "8129a48b",
   "metadata": {},
   "source": [
    "# **REGRESION LOGISTICA**\n",
    "solo para variables categoricas "
   ]
  },
  {
   "cell_type": "code",
   "execution_count": 7,
   "id": "a4ec05d8",
   "metadata": {},
   "outputs": [
    {
     "data": {
      "text/plain": [
       "Index(['salario', 'noasiat', 'gpa', 'postgrad', 'experien'], dtype='object')"
      ]
     },
     "execution_count": 7,
     "metadata": {},
     "output_type": "execute_result"
    }
   ],
   "source": [
    "df.columns"
   ]
  },
  {
   "cell_type": "code",
   "execution_count": 8,
   "id": "f9241875",
   "metadata": {},
   "outputs": [
    {
     "data": {
      "text/plain": [
       "count       110.000000\n",
       "mean      85256.518182\n",
       "std       16419.359283\n",
       "min       47279.000000\n",
       "25%       74379.000000\n",
       "50%       86384.000000\n",
       "75%       96827.250000\n",
       "max      118683.000000\n",
       "Name: salario, dtype: float64"
      ]
     },
     "execution_count": 8,
     "metadata": {},
     "output_type": "execute_result"
    }
   ],
   "source": [
    "df.salario.describe()"
   ]
  },
  {
   "cell_type": "code",
   "execution_count": 11,
   "id": "71b67c5f",
   "metadata": {},
   "outputs": [
    {
     "data": {
      "text/plain": [
       "array([1, 0, 0, 0, 0, 1, 0, 1, 0, 0, 0, 0, 0, 1, 0, 0, 0, 0, 1, 0, 1, 0,\n",
       "       0, 0, 0, 0, 0, 0, 0, 1, 1, 1, 0, 1, 0, 0, 0, 1, 0, 0, 0, 0, 1, 0,\n",
       "       0, 0, 1, 0, 0, 1, 1, 1, 0, 0, 1, 0, 0, 1, 0, 1, 0, 1, 0, 0, 0, 0,\n",
       "       1, 0, 0, 0, 0, 0, 0, 1, 0, 1, 1, 0, 0, 1, 0, 1, 0, 1, 1, 0, 0, 0,\n",
       "       0, 0, 1, 0, 0, 1, 0, 0, 0, 0, 0, 0, 0, 0, 0, 1, 0, 0, 0, 0, 0, 1])"
      ]
     },
     "execution_count": 11,
     "metadata": {},
     "output_type": "execute_result"
    }
   ],
   "source": [
    "y=np.where(df['salario']>96000,1,0)# condicional para que escoja salarios mayores de 96000 para arriba\n",
    "x=df.drop(['salario'],axis=1)\n",
    "y"
   ]
  },
  {
   "cell_type": "code",
   "execution_count": 13,
   "id": "76244965",
   "metadata": {},
   "outputs": [
    {
     "data": {
      "text/plain": [
       "Text(0, 0.5, 'y')"
      ]
     },
     "execution_count": 13,
     "metadata": {},
     "output_type": "execute_result"
    },
    {
     "data": {
      "image/png": "[encoded data removed]",
      "text/plain": [
       "<Figure size 432x288 with 1 Axes>"
      ]
     },
     "metadata": {
      "needs_background": "light"
     },
     "output_type": "display_data"
    }
   ],
   "source": [
    "fig, ax=plt.subplots()\n",
    "ax.scatter(df.salario,y)\n",
    "ax.set_xlabel('salario')\n",
    "ax.set_ylabel('y')"
   ]
  },
  {
   "cell_type": "code",
   "execution_count": 14,
   "id": "4f82b1a8",
   "metadata": {},
   "outputs": [],
   "source": [
    "reg_log=linear_model.LogisticRegression()\n",
    "reg_log.fit(x,y)\n",
    "y_estimado=reg_log.predict_proba(x)"
   ]
  },
  {
   "cell_type": "code",
   "execution_count": 15,
   "id": "bd4caee4",
   "metadata": {},
   "outputs": [
    {
     "data": {
      "text/plain": [
       "array([[4.39538178e-01, 5.60461822e-01],\n",
       "       [9.78148894e-01, 2.18511060e-02],\n",
       "       [6.59286204e-01, 3.40713796e-01],\n",
       "       [9.82159113e-01, 1.78408868e-02],\n",
       "       [6.70848737e-01, 3.29151263e-01],\n",
       "       [2.03018004e-01, 7.96981996e-01],\n",
       "       [9.22478258e-01, 7.75217424e-02],\n",
       "       [4.20159794e-01, 5.79840206e-01],\n",
       "       [8.03662576e-01, 1.96337424e-01],\n",
       "       [9.77631167e-01, 2.23688334e-02],\n",
       "       [9.06109495e-01, 9.38905048e-02],\n",
       "       [8.47522747e-01, 1.52477253e-01],\n",
       "       [9.95393767e-01, 4.60623344e-03],\n",
       "       [3.19263966e-01, 6.80736034e-01],\n",
       "       [7.63327838e-01, 2.36672162e-01],\n",
       "       [7.67016117e-01, 2.32983883e-01],\n",
       "       [9.73512282e-01, 2.64877181e-02],\n",
       "       [5.91913095e-01, 4.08086905e-01],\n",
       "       [3.77281945e-01, 6.22718055e-01],\n",
       "       [9.99180746e-01, 8.19254265e-04],\n",
       "       [3.20250422e-01, 6.79749578e-01],\n",
       "       [8.22737645e-01, 1.77262355e-01],\n",
       "       [5.15421891e-01, 4.84578109e-01],\n",
       "       [9.88088141e-01, 1.19118594e-02],\n",
       "       [9.95048946e-01, 4.95105410e-03],\n",
       "       [9.77747441e-01, 2.22525593e-02],\n",
       "       [4.27308629e-01, 5.72691371e-01],\n",
       "       [8.93642735e-01, 1.06357265e-01],\n",
       "       [9.85167549e-01, 1.48324507e-02],\n",
       "       [6.23936743e-01, 3.76063257e-01],\n",
       "       [5.53154110e-01, 4.46845890e-01],\n",
       "       [4.96462376e-01, 5.03537624e-01],\n",
       "       [9.95231872e-01, 4.76812772e-03],\n",
       "       [4.46983581e-01, 5.53016419e-01],\n",
       "       [8.42983484e-01, 1.57016516e-01],\n",
       "       [4.09634814e-01, 5.90365186e-01],\n",
       "       [9.25147543e-01, 7.48524569e-02],\n",
       "       [3.81069527e-01, 6.18930473e-01],\n",
       "       [7.20178850e-01, 2.79821150e-01],\n",
       "       [5.83721009e-01, 4.16278991e-01],\n",
       "       [6.97575096e-01, 3.02424904e-01],\n",
       "       [9.84831680e-01, 1.51683200e-02],\n",
       "       [4.40875980e-01, 5.59124020e-01],\n",
       "       [7.53803558e-01, 2.46196442e-01],\n",
       "       [9.85587941e-01, 1.44120593e-02],\n",
       "       [3.31923988e-01, 6.68076012e-01],\n",
       "       [2.12337256e-01, 7.87662744e-01],\n",
       "       [8.73948570e-01, 1.26051430e-01],\n",
       "       [9.14263116e-01, 8.57368843e-02],\n",
       "       [3.35794135e-01, 6.64205865e-01],\n",
       "       [4.17778422e-02, 9.58222158e-01],\n",
       "       [3.34523516e-02, 9.66547648e-01],\n",
       "       [9.77819590e-01, 2.21804096e-02],\n",
       "       [9.59065811e-01, 4.09341892e-02],\n",
       "       [3.46239270e-01, 6.53760730e-01],\n",
       "       [6.44288002e-01, 3.55711998e-01],\n",
       "       [9.31213974e-01, 6.87860261e-02],\n",
       "       [8.40220874e-02, 9.15977913e-01],\n",
       "       [9.95015625e-01, 4.98437530e-03],\n",
       "       [2.91036671e-01, 7.08963329e-01],\n",
       "       [9.96145351e-01, 3.85464903e-03],\n",
       "       [2.77123666e-01, 7.22876334e-01],\n",
       "       [9.38590324e-01, 6.14096760e-02],\n",
       "       [9.30370835e-01, 6.96291655e-02],\n",
       "       [9.92405351e-01, 7.59464935e-03],\n",
       "       [9.99194789e-01, 8.05211331e-04],\n",
       "       [4.87206296e-01, 5.12793704e-01],\n",
       "       [6.42507983e-01, 3.57492017e-01],\n",
       "       [9.87817588e-01, 1.21824120e-02],\n",
       "       [9.93215966e-01, 6.78403444e-03],\n",
       "       [9.42592251e-01, 5.74077487e-02],\n",
       "       [7.12471925e-01, 2.87528075e-01],\n",
       "       [6.78995608e-01, 3.21004392e-01],\n",
       "       [7.81326403e-02, 9.21867360e-01],\n",
       "       [9.02248305e-01, 9.77516953e-02],\n",
       "       [2.80848489e-01, 7.19151511e-01],\n",
       "       [7.10012909e-01, 2.89987091e-01],\n",
       "       [9.96211227e-01, 3.78877333e-03],\n",
       "       [9.53833469e-01, 4.61665309e-02],\n",
       "       [4.69386588e-01, 5.30613412e-01],\n",
       "       [9.41036934e-01, 5.89630661e-02],\n",
       "       [5.04004912e-01, 4.95995088e-01],\n",
       "       [5.12455473e-01, 4.87544527e-01],\n",
       "       [5.58270609e-01, 4.41729391e-01],\n",
       "       [2.67476699e-01, 7.32523301e-01],\n",
       "       [5.91110568e-01, 4.08889432e-01],\n",
       "       [9.68774331e-01, 3.12256687e-02],\n",
       "       [9.50782123e-01, 4.92178770e-02],\n",
       "       [9.60654921e-01, 3.93450786e-02],\n",
       "       [2.56775930e-01, 7.43224070e-01],\n",
       "       [8.01640014e-01, 1.98359986e-01],\n",
       "       [7.16698486e-01, 2.83301514e-01],\n",
       "       [9.16020774e-01, 8.39792259e-02],\n",
       "       [9.39462753e-02, 9.06053725e-01],\n",
       "       [9.97330634e-01, 2.66936557e-03],\n",
       "       [8.25739779e-01, 1.74260221e-01],\n",
       "       [5.66293575e-01, 4.33706425e-01],\n",
       "       [9.14938877e-01, 8.50611228e-02],\n",
       "       [9.59533289e-01, 4.04667111e-02],\n",
       "       [9.41879876e-01, 5.81201244e-02],\n",
       "       [9.89424345e-01, 1.05756552e-02],\n",
       "       [9.84670111e-01, 1.53298886e-02],\n",
       "       [9.99185098e-01, 8.14902379e-04],\n",
       "       [1.36517164e-01, 8.63482836e-01],\n",
       "       [9.95569801e-01, 4.43019932e-03],\n",
       "       [9.69293557e-01, 3.07064431e-02],\n",
       "       [9.22614795e-01, 7.73852052e-02],\n",
       "       [9.85559373e-01, 1.44406271e-02],\n",
       "       [9.77701541e-01, 2.22984588e-02],\n",
       "       [4.88538142e-01, 5.11461858e-01]])"
      ]
     },
     "execution_count": 15,
     "metadata": {},
     "output_type": "execute_result"
    }
   ],
   "source": [
    "y_estimado"
   ]
  },
  {
   "cell_type": "code",
   "execution_count": 29,
   "id": "ed3c53a0",
   "metadata": {},
   "outputs": [],
   "source": [
    "#estamacion con 1\n",
    "y_estimado_1=reg_log.predict_proba(x)[:,1]\n",
    "y_estimado=reg_log.predict(x)"
   ]
  },
  {
   "cell_type": "code",
   "execution_count": 27,
   "id": "eb6cdcc5",
   "metadata": {},
   "outputs": [
    {
     "data": {
      "text/plain": [
       "array([ True,  True,  True,  True,  True,  True,  True,  True,  True,\n",
       "        True,  True,  True,  True,  True,  True,  True,  True,  True,\n",
       "        True,  True,  True,  True,  True,  True,  True,  True, False,\n",
       "        True,  True, False, False,  True,  True,  True,  True, False,\n",
       "        True,  True,  True,  True,  True,  True,  True,  True,  True,\n",
       "       False,  True,  True,  True,  True,  True,  True,  True,  True,\n",
       "        True,  True,  True,  True,  True,  True,  True,  True,  True,\n",
       "        True,  True,  True,  True,  True,  True,  True,  True,  True,\n",
       "        True,  True,  True,  True, False,  True,  True,  True,  True,\n",
       "       False,  True, False,  True,  True,  True,  True,  True, False,\n",
       "       False,  True,  True,  True,  True,  True,  True,  True,  True,\n",
       "        True,  True,  True,  True,  True,  True,  True,  True,  True,\n",
       "        True,  True])"
      ]
     },
     "execution_count": 27,
     "metadata": {},
     "output_type": "execute_result"
    }
   ],
   "source": [
    "#coefficientes que estan afectando el desempeno de logistica\n",
    "y==y_estimado"
   ]
  },
  {
   "cell_type": "code",
   "execution_count": 32,
   "id": "c44a8cfc",
   "metadata": {},
   "outputs": [
    {
     "data": {
      "text/plain": [
       "(array([5.60461822e-01, 2.18511060e-02, 3.40713796e-01, 1.78408868e-02,\n",
       "        3.29151263e-01, 7.96981996e-01, 7.75217424e-02, 5.79840206e-01,\n",
       "        1.96337424e-01, 2.23688334e-02, 9.38905048e-02, 1.52477253e-01,\n",
       "        4.60623344e-03, 6.80736034e-01, 2.36672162e-01, 2.32983883e-01,\n",
       "        2.64877181e-02, 4.08086905e-01, 6.22718055e-01, 8.19254265e-04,\n",
       "        6.79749578e-01, 1.77262355e-01, 4.84578109e-01, 1.19118594e-02,\n",
       "        4.95105410e-03, 2.22525593e-02, 5.72691371e-01, 1.06357265e-01,\n",
       "        1.48324507e-02, 3.76063257e-01, 4.46845890e-01, 5.03537624e-01,\n",
       "        4.76812772e-03, 5.53016419e-01, 1.57016516e-01, 5.90365186e-01,\n",
       "        7.48524569e-02, 6.18930473e-01, 2.79821150e-01, 4.16278991e-01,\n",
       "        3.02424904e-01, 1.51683200e-02, 5.59124020e-01, 2.46196442e-01,\n",
       "        1.44120593e-02, 6.68076012e-01, 7.87662744e-01, 1.26051430e-01,\n",
       "        8.57368843e-02, 6.64205865e-01, 9.58222158e-01, 9.66547648e-01,\n",
       "        2.21804096e-02, 4.09341892e-02, 6.53760730e-01, 3.55711998e-01,\n",
       "        6.87860261e-02, 9.15977913e-01, 4.98437530e-03, 7.08963329e-01,\n",
       "        3.85464903e-03, 7.22876334e-01, 6.14096760e-02, 6.96291655e-02,\n",
       "        7.59464935e-03, 8.05211331e-04, 5.12793704e-01, 3.57492017e-01,\n",
       "        1.21824120e-02, 6.78403444e-03, 5.74077487e-02, 2.87528075e-01,\n",
       "        3.21004392e-01, 9.21867360e-01, 9.77516953e-02, 7.19151511e-01,\n",
       "        2.89987091e-01, 3.78877333e-03, 4.61665309e-02, 5.30613412e-01,\n",
       "        5.89630661e-02, 4.95995088e-01, 4.87544527e-01, 4.41729391e-01,\n",
       "        7.32523301e-01, 4.08889432e-01, 3.12256687e-02, 4.92178770e-02,\n",
       "        3.93450786e-02, 7.43224070e-01, 1.98359986e-01, 2.83301514e-01,\n",
       "        8.39792259e-02, 9.06053725e-01, 2.66936557e-03, 1.74260221e-01,\n",
       "        4.33706425e-01, 8.50611228e-02, 4.04667111e-02, 5.81201244e-02,\n",
       "        1.05756552e-02, 1.53298886e-02, 8.14902379e-04, 8.63482836e-01,\n",
       "        4.43019932e-03, 3.07064431e-02, 7.73852052e-02, 1.44406271e-02,\n",
       "        2.22984588e-02, 5.11461858e-01]),\n",
       "      noasiat   gpa  postgrad  experien\n",
       " 0        0.0  3.36       0.0      15.0\n",
       " 1        1.0  2.35       1.0       9.0\n",
       " 2        1.0  3.33       1.0      10.0\n",
       " 3        1.0  3.37       0.0       2.0\n",
       " 4        1.0  3.87       1.0       4.0\n",
       " ..       ...   ...       ...       ...\n",
       " 105      1.0  3.12       1.0       2.0\n",
       " 106      0.0  3.36       0.0       5.0\n",
       " 107      0.0  2.51       1.0       3.0\n",
       " 108      1.0  2.89       0.0       8.0\n",
       " 109      1.0  3.85       1.0       7.0\n",
       " \n",
       " [110 rows x 4 columns])"
      ]
     },
     "execution_count": 32,
     "metadata": {},
     "output_type": "execute_result"
    }
   ],
   "source": [
    "y_estimado_1, x"
   ]
  },
  {
   "cell_type": "code",
   "execution_count": 38,
   "id": "726776c5",
   "metadata": {},
   "outputs": [
    {
     "data": {
      "text/plain": [
       "0.9090909090909091"
      ]
     },
     "execution_count": 38,
     "metadata": {},
     "output_type": "execute_result"
    }
   ],
   "source": [
    "metrics.accuracy_score(y,reg_log.predict(x))\n"
   ]
  },
  {
   "cell_type": "markdown",
   "id": "bbd77558",
   "metadata": {},
   "source": [
    "**Podemos ver que los no  asiaticos que tenga posgrados y experiencia  en un 90%**"
   ]
  },
  {
   "cell_type": "code",
   "execution_count": 39,
   "id": "3d901b6e",
   "metadata": {},
   "outputs": [
    {
     "data": {
      "text/plain": [
       "Index(['noasiat', 'gpa', 'postgrad', 'experien'], dtype='object')"
      ]
     },
     "execution_count": 39,
     "metadata": {},
     "output_type": "execute_result"
    }
   ],
   "source": [
    "x.columns"
   ]
  }
 ],
 "metadata": {
  "kernelspec": {
   "display_name": "Python 3",
   "language": "python",
   "name": "python3"
  },
  "language_info": {
   "codemirror_mode": {
    "name": "ipython",
    "version": 3
   },
   "file_extension": ".py",
   "mimetype": "text/x-python",
   "name": "python",
   "nbconvert_exporter": "python",
   "pygments_lexer": "ipython3",
   "version": "3.8.8"
  }
 },
 "nbformat": 4,
 "nbformat_minor": 5
}
