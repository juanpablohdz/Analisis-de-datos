{
 "cells": [
  {
   "cell_type": "code",
   "execution_count": 1,
   "id": "2c3a0c7d",
   "metadata": {},
   "outputs": [],
   "source": [
    "import pandas as pd\n",
    "import matplotlib.pyplot as plt \n",
    "import seaborn as sns \n",
    "import numpy as np\n",
    "from scipy.stats import expon\n",
    "from scipy.stats import uniform \n",
    "%matplotlib inline"
   ]
  },
  {
   "cell_type": "code",
   "execution_count": 30,
   "id": "2aa3908a",
   "metadata": {},
   "outputs": [],
   "source": [
    "muestra = [42, 35, 29, 45, 41, 57, 54, 47, 48, 56, 47, 35, 52, 31, 52, 55, 57, 58, 26, 29, 32, 37, 32, 34, 48, 20, 48, 51, 27, 24, 39, 40, 31, 34, 23, 24, 41, 58, 44, 48, 31, 23, 27, 55, 43, 47, 30, 57, 38, 51]"
   ]
  },
  {
   "cell_type": "code",
   "execution_count": 31,
   "id": "a0211c15",
   "metadata": {},
   "outputs": [
    {
     "data": {
      "text/plain": [
       "50"
      ]
     },
     "execution_count": 31,
     "metadata": {},
     "output_type": "execute_result"
    }
   ],
   "source": [
    "# tamaño de  la muestra \n",
    "len(muestra)"
   ]
  },
  {
   "cell_type": "code",
   "execution_count": 32,
   "id": "46313eab",
   "metadata": {},
   "outputs": [],
   "source": [
    "#Hipotesis  # media varianza de skew (mvsk)\n",
    "from scipy.stats import expon\n",
    "media,var,skew,kurt=expon.stats(scale=30,moments='mvsk')"
   ]
  },
  {
   "cell_type": "code",
   "execution_count": 33,
   "id": "3c7e352d",
   "metadata": {},
   "outputs": [
    {
     "name": "stdout",
     "output_type": "stream",
     "text": [
      "promedio de tardanza de tiempo de las  consultas:  40.66\n"
     ]
    }
   ],
   "source": [
    "#paso1 :parametro lambda\n",
    "#paso2 :hipotesis\n",
    "\n",
    "mu=30\n",
    "mu>30\n",
    "#paso3 :mejor estimador\n",
    "#estimador\n",
    "#paso4 : distribucion\n",
    "promedio= np.mean(muestra)\n",
    "print(f'promedio de tardanza de tiempo de las  consultas: ',promedio)\n"
   ]
  },
  {
   "cell_type": "code",
   "execution_count": 34,
   "id": "dced372e",
   "metadata": {},
   "outputs": [
    {
     "data": {
      "text/plain": [
       "2.5125860958161983"
      ]
     },
     "execution_count": 34,
     "metadata": {},
     "output_type": "execute_result"
    }
   ],
   "source": [
    "# pasoi :5 valor del estadistico \n",
    "z=(promedio - mu)/np.sqrt(var/50)\n",
    "z"
   ]
  },
  {
   "cell_type": "code",
   "execution_count": 41,
   "id": "6b360a6f",
   "metadata": {},
   "outputs": [],
   "source": [
    "#  paso6 :tolerancia de error\n",
    "alpha=0.05\n",
    "#criterios de rechazo \n",
    "from scipy.stats import norm\n",
    "data_norm=norm.rvs(size=1000000)"
   ]
  },
  {
   "cell_type": "code",
   "execution_count": 46,
   "id": "f332fc73",
   "metadata": {},
   "outputs": [
    {
     "data": {
      "text/plain": [
       "Text(0.5, 1.0, 'Distribucion normal')"
      ]
     },
     "execution_count": 46,
     "metadata": {},
     "output_type": "execute_result"
    },
    {
     "data": {
      "image/png": "[encoded data removed]",
      "text/plain": [
       "<Figure size 432x288 with 1 Axes>"
      ]
     },
     "metadata": {
      "needs_background": "light"
     },
     "output_type": "display_data"
    }
   ],
   "source": [
    "ax = sns.distplot(data_norm, bins = 500, kde = False, color = 'black')\n",
    "ax.set_title('Distribucion normal')\n",
    "#plt.show"
   ]
  },
  {
   "cell_type": "code",
   "execution_count": 48,
   "id": "da73366b",
   "metadata": {},
   "outputs": [
    {
     "data": {
      "text/plain": [
       "1.6448536269514722"
      ]
     },
     "execution_count": 48,
     "metadata": {},
     "output_type": "execute_result"
    }
   ],
   "source": [
    "#pruebas de rechazo y valor critico \n",
    "#ppf(percentil probabilidad fuction)\n",
    "valor_critico=norm.ppf(1-alpha,loc=0,scale=1)\n",
    "valor_critico_critico"
   ]
  },
  {
   "cell_type": "code",
   "execution_count": 55,
   "id": "d715a4a5",
   "metadata": {},
   "outputs": [
    {
     "data": {
      "text/plain": [
       "<matplotlib.legend.Legend at 0x13a94ef5580>"
      ]
     },
     "execution_count": 55,
     "metadata": {},
     "output_type": "execute_result"
    },
    {
     "data": {
      "image/png": "[encoded data removed]",
      "text/plain": [
       "<Figure size 432x288 with 1 Axes>"
      ]
     },
     "metadata": {
      "needs_background": "light"
     },
     "output_type": "display_data"
    }
   ],
   "source": [
    "ax = sns.distplot(data_norm, bins = 500, kde = False, color = 'black')\n",
    "ax.set_title('Distribucion normal')\n",
    "ax.axvline(x=valor_critico, linestyle='--',label='valor critico ')\n",
    "ax.axvline(x=z, linestyle='--',label='valor estadistico ',color='purple')\n",
    "ax.legend()\n",
    "#tras ese error se muestra el 5% de error y atras muestra  no error del 95%"
   ]
  },
  {
   "cell_type": "markdown",
   "id": "6637826f",
   "metadata": {},
   "source": [
    "con este valor de rechazo vemos que tiene **mu** un valor igual a 30 \n",
    "a favor de la hipotesis alterna  sea **mu>30**"
   ]
  }
 ],
 "metadata": {
  "kernelspec": {
   "display_name": "Python 3",
   "language": "python",
   "name": "python3"
  },
  "language_info": {
   "codemirror_mode": {
    "name": "ipython",
    "version": 3
   },
   "file_extension": ".py",
   "mimetype": "text/x-python",
   "name": "python",
   "nbconvert_exporter": "python",
   "pygments_lexer": "ipython3",
   "version": "3.8.8"
  }
 },
 "nbformat": 4,
 "nbformat_minor": 5
}
