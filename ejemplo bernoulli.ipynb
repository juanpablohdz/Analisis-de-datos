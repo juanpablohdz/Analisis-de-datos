{
 "cells": [
  {
   "cell_type": "code",
   "execution_count": 1,
   "metadata": {},
   "outputs": [],
   "source": [
    "\n",
    "import numpy as np \n",
    "import datetime\n",
    "from datetime import date"
   ]
  },
  {
   "cell_type": "code",
   "execution_count": 7,
   "metadata": {},
   "outputs": [
    {
     "data": {
      "text/plain": [
       "float"
      ]
     },
     "execution_count": 7,
     "metadata": {},
     "output_type": "execute_result"
    }
   ],
   "source": [
    "type(1)\n",
    "type ('1')\n",
    "type(1.1)\n"
   ]
  },
  {
   "cell_type": "code",
   "execution_count": 15,
   "metadata": {},
   "outputs": [
    {
     "data": {
      "text/plain": [
       "6"
      ]
     },
     "execution_count": 15,
     "metadata": {},
     "output_type": "execute_result"
    }
   ],
   "source": [
    "1+1\n",
    "2-4\n",
    "1/2\n",
    "3%10\n",
    "3**3\n",
    "3*2"
   ]
  },
  {
   "cell_type": "code",
   "execution_count": 24,
   "metadata": {},
   "outputs": [
    {
     "data": {
      "text/plain": [
       "True"
      ]
     },
     "execution_count": 24,
     "metadata": {},
     "output_type": "execute_result"
    }
   ],
   "source": [
    "#(1>2) & (2<1)\n",
    "(1>2) | (1<2)"
   ]
  },
  {
   "cell_type": "code",
   "execution_count": 32,
   "metadata": {},
   "outputs": [
    {
     "data": {
      "text/plain": [
       "67"
      ]
     },
     "execution_count": 32,
     "metadata": {},
     "output_type": "execute_result"
    }
   ],
   "source": [
    "lista=['1',0,[1,2,[19,4,1,67,45]]]\n",
    "lista [2][2][3]"
   ]
  },
  {
   "cell_type": "code",
   "execution_count": 34,
   "metadata": {},
   "outputs": [],
   "source": [
    "universo=['cara','sello']\n"
   ]
  },
  {
   "cell_type": "code",
   "execution_count": 35,
   "metadata": {},
   "outputs": [],
   "source": [
    "p_cara=1/2"
   ]
  },
  {
   "cell_type": "code",
   "execution_count": 230,
   "metadata": {},
   "outputs": [
    {
     "name": "stdout",
     "output_type": "stream",
     "text": [
      "0.491\n"
     ]
    }
   ],
   "source": [
    "from scipy.stats import bernoulli\n",
    "bernoulli.rvs(p=p_cara)\n",
    "universo[bernoulli.rvs(p=p_cara)]\n",
    "bernoulli.rvs(p=p_cara,size=10)\n",
    "j=sum(bernoulli.rvs(p=p_cara,size=1000))\n",
    "i=j/1000\n",
    "print (i)"
   ]
  },
  {
   "cell_type": "code",
   "execution_count": 238,
   "metadata": {},
   "outputs": [
    {
     "data": {
      "text/plain": [
       "array([5, 4, 6, 2, 7, 6, 6, 7, 6, 4, 7, 6, 0, 6, 7, 2, 7, 2, 3, 3, 7, 5,\n",
       "       5, 6, 7, 6, 4, 8, 4, 5, 7, 8, 9, 3, 1, 4, 4, 5, 4, 3, 7, 3, 5, 6,\n",
       "       6, 5, 4, 5, 4, 6, 5, 8, 1, 5, 7, 8, 5, 1, 4, 4, 7, 4, 7, 8, 4, 6,\n",
       "       3, 3, 7, 4, 4, 7, 2, 4, 6, 2, 8, 4, 4, 5, 5, 1, 3, 5, 3, 8, 3, 4,\n",
       "       5, 3, 7, 6, 5, 8, 6, 6, 5, 4, 7, 5])"
      ]
     },
     "execution_count": 238,
     "metadata": {},
     "output_type": "execute_result"
    }
   ],
   "source": [
    "from scipy.stats import binom\n",
    "\n",
    "binom.rvs(p=p_cara,n=10, size=100) # cara , numero de lanzamientos,lista de valores generados "
   ]
  },
  {
   "cell_type": "code",
   "execution_count": 307,
   "metadata": {},
   "outputs": [
    {
     "data": {
      "text/plain": [
       "6     26\n",
       "5     24\n",
       "4     18\n",
       "3     12\n",
       "7      9\n",
       "8      5\n",
       "2      4\n",
       "10     1\n",
       "9      1\n",
       "dtype: int64"
      ]
     },
     "execution_count": 307,
     "metadata": {},
     "output_type": "execute_result"
    }
   ],
   "source": [
    "import pandas as pd\n",
    "pd.Series(binom.rvs(p=p_cara,n=10, size=100)).value_counts()#/100\n",
    "#de 10 lanzamientos 6 veces calleron cara  en 100 intentos  y 26 veces fueron iguales contandolos"
   ]
  }
 ],
 "metadata": {
  "kernelspec": {
   "display_name": "Python 3",
   "language": "python",
   "name": "python3"
  },
  "language_info": {
   "codemirror_mode": {
    "name": "ipython",
    "version": 3
   },
   "file_extension": ".py",
   "mimetype": "text/x-python",
   "name": "python",
   "nbconvert_exporter": "python",
   "pygments_lexer": "ipython3",
   "version": "3.7.3"
  }
 },
 "nbformat": 4,
 "nbformat_minor": 2
}
