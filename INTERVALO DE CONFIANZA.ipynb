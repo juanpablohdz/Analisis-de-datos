{
 "cells": [
  {
   "cell_type": "code",
   "execution_count": 2,
   "id": "552f7700",
   "metadata": {},
   "outputs": [],
   "source": [
    "import pandas as pd\n",
    "import numpy as np\n"
   ]
  },
  {
   "cell_type": "code",
   "execution_count": 1,
   "id": "44059c67",
   "metadata": {},
   "outputs": [],
   "source": [
    "Muestra = [4046, 2578, 3796, 3412, 3315, 3228, 3666, 3877, 3154, 4062, 4365, 3776, 3761, 2587, 2911, 3184, 3810, 4459, 3385, 3899, 3602, 2701, 2821, 2790, 2557, 2540, 4119, 2712, 2743, 2713, 4466, 3937, 3871, 4427, 3177, 2556, 2903, 3522, 4155, 4010, 4453, 3080, 3008, 3865, 3356, 2799, 3308, 2759, 4347, 2576, 4075, 3333, 2936, 3746, 3334, 3940, 4113, 4220, 3580, 3922]"
   ]
  },
  {
   "cell_type": "code",
   "execution_count": 15,
   "id": "907fbb20",
   "metadata": {},
   "outputs": [],
   "source": [
    "from scipy.stats import norm\n",
    "alpha=0.05\n"
   ]
  },
  {
   "cell_type": "code",
   "execution_count": 16,
   "id": "c0bb59a9",
   "metadata": {},
   "outputs": [
    {
     "data": {
      "text/plain": [
       "(-1.6448536269514729, 1.6448536269514722)"
      ]
     },
     "execution_count": 16,
     "metadata": {},
     "output_type": "execute_result"
    }
   ],
   "source": [
    "# es asimetrica , si redujemos el error se va a ampliar\n",
    "#esto es para una distribucion normal estandar  con media 0 y  varianza 1\n",
    "\n",
    "lim_inf = norm.ppf(alpha/1)\n",
    "lim_sup = norm.ppf(1-(alpha/1))\n",
    "lim_inf, lim_sup"
   ]
  },
  {
   "cell_type": "markdown",
   "id": "7af81b32",
   "metadata": {},
   "source": [
    "debemos ajustar estos limites a nuestra muestra normal"
   ]
  },
  {
   "cell_type": "code",
   "execution_count": 20,
   "id": "d6bd538c",
   "metadata": {},
   "outputs": [
    {
     "data": {
      "text/plain": [
       "60"
      ]
     },
     "execution_count": 20,
     "metadata": {},
     "output_type": "execute_result"
    }
   ],
   "source": [
    "promedio=np.mean(Muestra)\n",
    "desviacion=np.std(Muestra)\n",
    "len(Muestra)"
   ]
  },
  {
   "cell_type": "code",
   "execution_count": 21,
   "id": "391e092f",
   "metadata": {},
   "outputs": [
    {
     "data": {
      "text/plain": [
       "(2494.1372815063205, 4450.629385160346)"
      ]
     },
     "execution_count": 21,
     "metadata": {},
     "output_type": "execute_result"
    }
   ],
   "source": [
    "lim_inf = lim_inf*desviacion +promedio # se va a desastenderizar\n",
    "lim_sup = lim_sup*desviacion+promedio\n",
    "lim_inf, lim_sup"
   ]
  }
 ],
 "metadata": {
  "kernelspec": {
   "display_name": "Python 3",
   "language": "python",
   "name": "python3"
  },
  "language_info": {
   "codemirror_mode": {
    "name": "ipython",
    "version": 3
   },
   "file_extension": ".py",
   "mimetype": "text/x-python",
   "name": "python",
   "nbconvert_exporter": "python",
   "pygments_lexer": "ipython3",
   "version": "3.8.8"
  }
 },
 "nbformat": 4,
 "nbformat_minor": 5
}
