{
 "cells": [
  {
   "cell_type": "code",
   "execution_count": 1,
   "metadata": {},
   "outputs": [],
   "source": [
    "import sklearn \n",
    "import pandas as pd\n",
    "import numpy as np \n",
    "import matplotlib.pyplot as plt \n",
    "from sklearn.datasets import load_iris\n",
    "from scipy import stats\n",
    "import seaborn as sns\n",
    "%matplotlib inline"
   ]
  },
  {
   "cell_type": "code",
   "execution_count": 2,
   "metadata": {},
   "outputs": [
    {
     "data": {
      "text/plain": [
       "0.00013383022576488537"
      ]
     },
     "execution_count": 2,
     "metadata": {},
     "output_type": "execute_result"
    }
   ],
   "source": [
    "#distribucion normal\n",
    "from scipy.stats import norm\n",
    "# no conocmemos los datos de esta informacion hacemos una hipotesis\n",
    "x1=3\n",
    "mu1=4 \n",
    "mu2=7\n",
    "sigma=1\n",
    "p_muestra=norm.pdf(x1,mu2,sigma )\n",
    "p_muestra"
   ]
  },
  {
   "cell_type": "code",
   "execution_count": 3,
   "metadata": {},
   "outputs": [
    {
     "data": {
      "text/plain": [
       "1.4701857752651781e-09"
      ]
     },
     "execution_count": 3,
     "metadata": {},
     "output_type": "execute_result"
    }
   ],
   "source": [
    "#distribucion normal\n",
    "from scipy.stats import norm\n",
    "# la muestra deben ser menores ya que  las probabilidades \n",
    "x1=3\n",
    "x2=10\n",
    "mu1=4 \n",
    "mu2=7\n",
    "sigma=1\n",
    "p_muestra=norm.pdf(x1,mu1,sigma )*norm.pdf(x2,mu1,sigma )\n",
    "p_muestra\n"
   ]
  },
  {
   "cell_type": "code",
   "execution_count": 5,
   "metadata": {},
   "outputs": [],
   "source": [
    "#distribucion poblacional\n",
    "muestra_10=norm.rvs(5,sigma,size=10)"
   ]
  },
  {
   "cell_type": "code",
   "execution_count": 7,
   "metadata": {},
   "outputs": [
    {
     "data": {
      "text/plain": [
       "array([4.52020953, 5.8004873 , 5.79807386, 4.89766592, 3.37234377,\n",
       "       5.91466311, 3.86356956, 3.73904414, 5.55124322, 5.98676384])"
      ]
     },
     "execution_count": 7,
     "metadata": {},
     "output_type": "execute_result"
    }
   ],
   "source": [
    "muestra_10"
   ]
  },
  {
   "cell_type": "code",
   "execution_count": 43,
   "metadata": {},
   "outputs": [],
   "source": [
    "# la distribucion  del mu1  para mas evidente y continua\n",
    "data=norm.rvs(mu1,sigma,size=100000)# que tan ajustada esta la dstribucion  normal \n",
    "\n",
    "data2=norm.rvs(mu2,sigma,size=100000)"
   ]
  },
  {
   "cell_type": "code",
   "execution_count": 47,
   "metadata": {},
   "outputs": [
    {
     "data": {
      "text/plain": [
       "<matplotlib.collections.PathCollection at 0x1dcc19d9710>"
      ]
     },
     "execution_count": 47,
     "metadata": {},
     "output_type": "execute_result"
    },
    {
     "data": {
      "image/png": "[encoded data removed]",
      "text/plain": [
       "<Figure size 432x288 with 1 Axes>"
      ]
     },
     "metadata": {
      "needs_background": "light"
     },
     "output_type": "display_data"
    }
   ],
   "source": [
    "# podemos graficar cualquier  distribucion \n",
    "ax=sns.distplot(data,bins=50,color='blue',kde = False)\n",
    "ax.set(xlabel='distribucion normal ,mu1',ylabel='frecuencia')\n",
    "\n",
    "ax=sns.distplot(data2,bins=50,color='purple',kde =False)\n",
    "ax.set(xlabel='distribucion normal ,mu1',ylabel='frecuencia')\n",
    "#scatter plot\n",
    "ax.scatter(muestra_10,y,c='k')\n",
    "\n",
    "\n"
   ]
  },
  {
   "cell_type": "code",
   "execution_count": 46,
   "metadata": {},
   "outputs": [],
   "source": [
    "muestra_10\n",
    "#generando altura\n",
    "y =list([])\n",
    "for i in range (10):\n",
    "    y.append(3000)"
   ]
  },
  {
   "cell_type": "code",
   "execution_count": null,
   "metadata": {},
   "outputs": [],
   "source": []
  }
 ],
 "metadata": {
  "kernelspec": {
   "display_name": "Python 3",
   "language": "python",
   "name": "python3"
  },
  "language_info": {
   "codemirror_mode": {
    "name": "ipython",
    "version": 3
   },
   "file_extension": ".py",
   "mimetype": "text/x-python",
   "name": "python",
   "nbconvert_exporter": "python",
   "pygments_lexer": "ipython3",
   "version": "3.7.3"
  }
 },
 "nbformat": 4,
 "nbformat_minor": 2
}
