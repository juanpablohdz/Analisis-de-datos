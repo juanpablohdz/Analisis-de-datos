{
 "cells": [
  {
   "cell_type": "code",
   "execution_count": 10,
   "id": "d494604c",
   "metadata": {},
   "outputs": [],
   "source": [
    "import pandas as pd\n",
    "import numpy as np\n",
    "import seaborn as sns\n",
    "import os"
   ]
  },
  {
   "cell_type": "code",
   "execution_count": 11,
   "id": "754ff5c5",
   "metadata": {},
   "outputs": [
    {
     "name": "stdout",
     "output_type": "stream",
     "text": [
      "['gender_submission.csv', 'test.csv', 'titanic-master-table.csv', 'train.csv']\n"
     ]
    }
   ],
   "source": [
    "os.chdir('C:/Users/polla/Desktop/estadistica ajuste platziiii/analisis de datos/titanic')\n",
    "os.getcwd()\n",
    "print(os.listdir('.'))\n"
   ]
  },
  {
   "cell_type": "code",
   "execution_count": 15,
   "id": "c6c5b924",
   "metadata": {},
   "outputs": [
    {
     "data": {
      "text/plain": [
       "Index(['Unnamed: 0', 'PassengerId', 'Survived', 'Name', 'Age', 'SibSp',\n",
       "       'Parch', 'Ticket', 'Fare', 'is-Pclass-1', 'is-Pclass-2', 'is-Sex-male',\n",
       "       'is-Embarked-S', 'is-Embarked-C', 'family_size'],\n",
       "      dtype='object')"
      ]
     },
     "execution_count": 15,
     "metadata": {},
     "output_type": "execute_result"
    }
   ],
   "source": [
    "df=pd.read_csv('titanic-master-table.csv')\n",
    "df.columns"
   ]
  },
  {
   "cell_type": "code",
   "execution_count": 16,
   "id": "022560a3",
   "metadata": {},
   "outputs": [],
   "source": [
    "y=df['Survived']\n",
    "x=df[[ 'Age','SibSp','Parch','Fare','is-Pclass-1','is-Pclass-2','is-Sex-male','is-Embarked-S', 'is-Embarked-C', 'family_size']]"
   ]
  },
  {
   "cell_type": "code",
   "execution_count": 18,
   "id": "1787949e",
   "metadata": {},
   "outputs": [],
   "source": [
    "from sklearn.model_selection import train_test_split\n",
    "x_train,x_test,y_train,y_test=train_test_split(x,y,test_size=0.15,random_state=1)"
   ]
  },
  {
   "cell_type": "code",
   "execution_count": 19,
   "id": "9f523ee9",
   "metadata": {},
   "outputs": [],
   "source": [
    "from sklearn.linear_model import LogisticRegression\n",
    "from sklearn.tree import DecisionTreeClassifier"
   ]
  },
  {
   "cell_type": "code",
   "execution_count": 21,
   "id": "d806d97d",
   "metadata": {},
   "outputs": [],
   "source": [
    "clf=[\n",
    "    (LogisticRegression(),'reg-log '),\n",
    "    (DecisionTreeClassifier(),'arbol-class')\n",
    "    \n",
    "]"
   ]
  },
  {
   "cell_type": "code",
   "execution_count": 23,
   "id": "906479e9",
   "metadata": {},
   "outputs": [
    {
     "name": "stderr",
     "output_type": "stream",
     "text": [
      "C:\\Users\\polla\\anaconda3\\lib\\site-packages\\sklearn\\linear_model\\_logistic.py:763: ConvergenceWarning: lbfgs failed to converge (status=1):\n",
      "STOP: TOTAL NO. of ITERATIONS REACHED LIMIT.\n",
      "\n",
      "Increase the number of iterations (max_iter) or scale the data as shown in:\n",
      "    https://scikit-learn.org/stable/modules/preprocessing.html\n",
      "Please also refer to the documentation for alternative solver options:\n",
      "    https://scikit-learn.org/stable/modules/linear_model.html#logistic-regression\n",
      "  n_iter_i = _check_optimize_result(\n"
     ]
    },
    {
     "name": "stdout",
     "output_type": "stream",
     "text": [
      "reg-log \n",
      "resultado en la prueba del modelo : 79.35 %\n",
      "arbol-class\n",
      "resultado en la prueba del modelo : 71.74 %\n"
     ]
    }
   ],
   "source": [
    "import joblib # modelos de analitica \n",
    "from sklearn.metrics import accuracy_score\n",
    "for model , name in clf:\n",
    "    #Entrenar\n",
    "    model.fit(x_train,y_train)\n",
    "    #Medir\n",
    "    y_pred=model.predict(x_test)\n",
    "    accuracy=accuracy_score(y_test,y_pred)\n",
    "    print(name)\n",
    "    print('resultado en la prueba del modelo :',round(accuracy*100,2),'%')\n",
    "    #Guardar\n",
    "    job_file= 'modelo-'+name+'.pkl' # es la ectension \n",
    "    joblib.dump(model,job_file)"
   ]
  },
  {
   "cell_type": "code",
   "execution_count": null,
   "id": "d7f25987",
   "metadata": {},
   "outputs": [],
   "source": []
  }
 ],
 "metadata": {
  "kernelspec": {
   "display_name": "Python 3",
   "language": "python",
   "name": "python3"
  },
  "language_info": {
   "codemirror_mode": {
    "name": "ipython",
    "version": 3
   },
   "file_extension": ".py",
   "mimetype": "text/x-python",
   "name": "python",
   "nbconvert_exporter": "python",
   "pygments_lexer": "ipython3",
   "version": "3.8.8"
  }
 },
 "nbformat": 4,
 "nbformat_minor": 5
}
